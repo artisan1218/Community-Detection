{
 "cells": [
  {
   "cell_type": "code",
   "execution_count": 1,
   "metadata": {},
   "outputs": [],
   "source": [
    "import time\n",
    "from collections import defaultdict\n",
    "import copy\n",
    "import itertools"
   ]
  },
  {
   "cell_type": "code",
   "execution_count": 2,
   "metadata": {},
   "outputs": [],
   "source": [
    "def betweenness(vertices_list, adjacent_dict):\n",
    "    total_edge_credit_dict = defaultdict(int)\n",
    "    for root in vertices_list:\n",
    "        # bfs to explore the graph and build the tree\n",
    "        visited = {root}\n",
    "        same_level_visited = set() \n",
    "        queue = [root]\n",
    "        same_level_queue = list()\n",
    "        bfs_result = list() \n",
    "        same_level_dict = dict()\n",
    "        parents = set()\n",
    "\n",
    "        while queue:\n",
    "            node = queue.pop(0)\n",
    "            neighbors = adjacent_dict[node]\n",
    "            for neighbor in neighbors:\n",
    "                if neighbor not in visited:\n",
    "                    if node in same_level_dict:\n",
    "                        same_level_dict[node][0].append(neighbor)\n",
    "                    else:\n",
    "                        same_level_dict[node] = ([neighbor], [])\n",
    "                    same_level_visited.add(neighbor)\n",
    "                    if neighbor not in set(same_level_queue):\n",
    "                        same_level_queue.append(neighbor)\n",
    "                elif neighbor in parents:\n",
    "                    if node in same_level_dict:\n",
    "                        same_level_dict[node][1].append(neighbor)\n",
    "                    else:\n",
    "                        same_level_dict[node] = ([], [neighbor])\n",
    "            if len(queue) == 0:\n",
    "                bfs_result.append(same_level_dict)\n",
    "                parents = set(same_level_dict.keys())\n",
    "                queue = same_level_queue.copy()\n",
    "                visited = visited.union(same_level_visited)\n",
    "                same_level_dict = dict()\n",
    "                same_level_queue = list()\n",
    "                same_level_visited = set()      \n",
    "\n",
    "        # bfs tree is built, proceed to GN algorithm----------------------------------------------------\n",
    "\n",
    "        # assigning node weights to each node from top to bottom\n",
    "        # initialize all node credits to one\n",
    "        node_credit_dict = dict()\n",
    "        node_weight_dict = defaultdict(int)\n",
    "        for level in bfs_result:\n",
    "            for node in level:\n",
    "                if len(level[node][1])==0: # this is the root node\n",
    "                    node_weight_dict[node] += 1\n",
    "                    node_credit_dict[node] = 1 # initialize all node credits to 1\n",
    "                else:# this node is a child node, not root\n",
    "                    for parent in level[node][1]: # node weight equals to the sum of its parents weight\n",
    "                        node_weight_dict[node] += node_weight_dict[parent]\n",
    "                    node_credit_dict[node] = 1 # initialize all node credits to 1\n",
    "\n",
    "        # girvan-newman algorithm, bottom-up approach\n",
    "        edge_credit_dict = defaultdict(int)\n",
    "        for level in reversed(bfs_result):\n",
    "            for node in level:\n",
    "                if len(level[node][0])!=0: # this is not a leaf node, then first update node credit\n",
    "                    # update node credit\n",
    "                    for child in level[node][0]:\n",
    "                        edge = tuple(sorted((node, child)))\n",
    "                        node_credit_dict[node] += edge_credit_dict[edge]\n",
    "                # compute and update edge credit\n",
    "                for parent in level[node][1]:\n",
    "                    edge = tuple(sorted((node, parent)))\n",
    "                    ratio = node_weight_dict[parent] / node_weight_dict[node]\n",
    "                    edge_credit_dict[edge] += ratio * node_credit_dict[node]                  \n",
    "\n",
    "        for edge in edge_credit_dict:\n",
    "            total_edge_credit_dict[edge] += edge_credit_dict[edge] / 2\n",
    "\n",
    "    total_edge_credit_dict = dict(sorted(total_edge_credit_dict.items(), key=lambda item: (-item[1], item[0])))\n",
    "    return total_edge_credit_dict"
   ]
  },
  {
   "cell_type": "code",
   "execution_count": 3,
   "metadata": {},
   "outputs": [],
   "source": [
    "def remove_edge(adjacent_dict, edge):\n",
    "    vertex1 = edge[0]\n",
    "    vertex2 = edge[1]\n",
    "    adjacent_dict[vertex1].remove(vertex2)\n",
    "    adjacent_dict[vertex2].remove(vertex1)"
   ]
  },
  {
   "cell_type": "code",
   "execution_count": 4,
   "metadata": {},
   "outputs": [],
   "source": [
    "def find_communities(adjacent_dict, vertices_list):\n",
    "    found_communities = list() # list of communities, each community is represented as a list\n",
    "    curr_community = list() # a single commuity\n",
    "    found_vertices = list() # list of vertices that had been included in known communities\n",
    "    queue = list() \n",
    "    \n",
    "    for vertex in vertices_list:\n",
    "        if vertex not in found_vertices: # if a vertex is already in a known community, then skip it\n",
    "            queue.append(vertex)\n",
    "            while queue:\n",
    "                node = queue.pop(0)\n",
    "                neighbor_list = adjacent_dict[node]\n",
    "                # this node has no connections to other nodes, deg=0. Just a single node\n",
    "                if len(neighbor_list)==0: \n",
    "                    found_vertices.append(node)\n",
    "                    curr_community.append(node)\n",
    "                else:\n",
    "                    for neighbor in neighbor_list:\n",
    "                        if neighbor not in found_vertices:\n",
    "                            queue.append(neighbor)\n",
    "                            found_vertices.append(neighbor)\n",
    "                            curr_community.append(neighbor)\n",
    "            # current queue is empty, which means all nodes in this community have been found\n",
    "            found_communities.append(sorted(curr_community))\n",
    "            curr_community = list()\n",
    "    return found_communities\n",
    "            "
   ]
  },
  {
   "cell_type": "code",
   "execution_count": 5,
   "metadata": {},
   "outputs": [],
   "source": [
    "def calculateModularity(partitioned_graph, communities, two_m, A_matrix):\n",
    "    q = 0\n",
    "    for community in communities:\n",
    "        edges_pair = list(itertools.product(community, community))\n",
    "        for edge in edges_pair:\n",
    "            i = edge[0]\n",
    "            j = edge[1]\n",
    "            ki = len(complete_graph[i])\n",
    "            kj = len(complete_graph[j])\n",
    "            q += A_matrix.get(tuple(sorted((i,j))), 0) - (ki*kj)/two_m\n",
    "    return q / two_m"
   ]
  },
  {
   "cell_type": "code",
   "execution_count": 9,
   "metadata": {},
   "outputs": [],
   "source": [
    "def findBestCommunities(complete_graph, vertices_list):\n",
    "    partitioned_graph = copy.deepcopy(complete_graph)\n",
    "    two_m = sum([len(complete_graph[node]) for node in complete_graph])\n",
    "    A_matrix = dict()\n",
    "    for node in complete_graph:\n",
    "        for node2 in complete_graph[node]:\n",
    "            A_matrix[tuple(sorted((node, node2)))] = 1\n",
    "    \n",
    "    betweenness_dict = betweenness(vertices_list, partitioned_graph)\n",
    "    best_q = calculateModularity(partitioned_graph, [vertices_list], two_m, A_matrix)\n",
    "    best_comm = find_communities(partitioned_graph, vertices_list)\n",
    "\n",
    "    while len(betweenness_dict)!=0:\n",
    "        edge_to_remove = list(betweenness_dict)[0] # the first key is the edge with highest betweenness\n",
    "        remove_edge(partitioned_graph, edge_to_remove) # remove the edge with top betweenness\n",
    "        betweenness_dict = betweenness(vertices_list, partitioned_graph) # re-compute the betweenness\n",
    "        curr_comm = find_communities(partitioned_graph, vertices_list) # identity the new communities\n",
    "        curr_q = calculateModularity(partitioned_graph, curr_comm, two_m, A_matrix) # calculate modularity for new communities\n",
    "        if curr_q > best_q:\n",
    "            best_q = curr_q\n",
    "            best_comm = copy.deepcopy(curr_comm)\n",
    "    return best_comm, best_q"
   ]
  },
  {
   "cell_type": "code",
   "execution_count": 6,
   "metadata": {},
   "outputs": [],
   "source": [
    "complete_graph = {'a':['b','c'],\n",
    "                  'b':['a','c','d'],\n",
    "                  'c':['a','b'],\n",
    "                  'd':['b','e','f','g'],\n",
    "                  'e':['d','f'],\n",
    "                  'f':['d','e','g'],\n",
    "                  'g':['d','f']\n",
    "                 }\n",
    "vertices_list = ['a','b','c','d','e','f','g']\n",
    "\n",
    "best_comm, best_q = findBestCommunities(complete_graph, vertices_list)"
   ]
  },
  {
   "cell_type": "code",
   "execution_count": 14,
   "metadata": {},
   "outputs": [
    {
     "name": "stdout",
     "output_type": "stream",
     "text": [
      "The best partition of the network is\n",
      "[['a', 'b', 'c'], ['d', 'e', 'f', 'g']], the modularity q of this partition is 0.3641975308641976\n"
     ]
    }
   ],
   "source": [
    "print('The best partition of the network is\\n{}, the modularity q of this partition is {}'.format(best_comm, best_q))"
   ]
  }
 ],
 "metadata": {
  "kernelspec": {
   "display_name": "Python 3",
   "language": "python",
   "name": "python3"
  },
  "language_info": {
   "codemirror_mode": {
    "name": "ipython",
    "version": 3
   },
   "file_extension": ".py",
   "mimetype": "text/x-python",
   "name": "python",
   "nbconvert_exporter": "python",
   "pygments_lexer": "ipython3",
   "version": "3.8.3"
  }
 },
 "nbformat": 4,
 "nbformat_minor": 5
}
